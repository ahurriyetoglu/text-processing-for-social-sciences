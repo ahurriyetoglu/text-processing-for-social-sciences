{
 "cells": [
  {
   "cell_type": "markdown",
   "id": "73404b6c",
   "metadata": {},
   "source": [
    "# Data Collection from the Web using APIs and web scraping techniques\n",
    "## CSSM530: Automated Text Processing for Social Sciences\n",
    "### Table of Contents:\n",
    "\n",
    "1. [Twitter API](#twitter-api)\n",
    "    - [Authentication](#authentication)\n",
    "    - [Search Tweets: Collect Tweets using keyword and/or operators](#search-tweets)\n",
    "    - [Get Tweet Counts](#get-tweet-counts)\n",
    "    - [Get User(s) (a.k.a User Lookup)](#get-users)\n",
    "    - [Collect User's Tweets (Timeline) & Likes](#collect-users-tweets)\n",
    "    - [Pagination](#pagination)\n",
    "    \n",
    "    \n",
    "2. [Web Scraping](#web-scraping)\n",
    "    - [Web Scraping with Requests & Beautiful Soup](#requests-bs4)\n",
    "    - [Interacting with Websites using Selenium](#selenium)"
   ]
  },
  {
   "cell_type": "markdown",
   "id": "e792fc28",
   "metadata": {},
   "source": [
    "## 1- Twitter API <a class=\"anchor\" id=\"twitter-api\"></a>\n",
    "\n",
    "- Documentations:\n",
    "    - [Twitter API Documentation](https://developer.twitter.com/en/docs/twitter-api)\n",
    "    - [Tweepy Documentation](https://docs.tweepy.org/)\n",
    "- Guide & Courses:\n",
    "    - [Getting access to the Twitter API](https://developer.twitter.com/en/docs/twitter-api/getting-started/getting-access-to-the-twitter-api)\n",
    "    - [A comprehensive guide for using the Twitter API v2 with Tweepy in Python](https://dev.to/twitterdev/a-comprehensive-guide-for-using-the-twitter-api-v2-using-tweepy-in-python-15d9) (by Suhem Parack from TwitterDev)\n",
    "    - [Getting started with the Twitter API v2 for academic research](https://github.com/twitterdev/getting-started-with-the-twitter-api-v2-for-academic-research) (Official Course by TwitterDev)"
   ]
  },
  {
   "cell_type": "code",
   "execution_count": 1,
   "id": "944ac06f",
   "metadata": {},
   "outputs": [],
   "source": [
    "import tweepy\n",
    "import pandas as pd"
   ]
  },
  {
   "cell_type": "markdown",
   "id": "5e013bfa",
   "metadata": {},
   "source": [
    "### Authentication <a class=\"anchor\" id=\"authentication\"></a>\n",
    "\n",
    "- Don't share your keys and tokens publicly.\n",
    "- Save them in a file (e.g., .txt or .json) on your computer and read from there."
   ]
  },
  {
   "cell_type": "code",
   "execution_count": 2,
   "id": "548a133c",
   "metadata": {},
   "outputs": [],
   "source": [
    "with open(\"my_api_key.txt\") as read_file:\n",
    "    bearer_token = read_file.read()"
   ]
  },
  {
   "cell_type": "code",
   "execution_count": 3,
   "id": "7338525f",
   "metadata": {},
   "outputs": [],
   "source": [
    "client = tweepy.Client(bearer_token=bearer_token, wait_on_rate_limit=True)"
   ]
  },
  {
   "cell_type": "markdown",
   "id": "61603516",
   "metadata": {},
   "source": [
    "### Search Tweets: Collect Tweets using keyword and/or operators <a class=\"anchor\" id=\"search-tweets\"></a>\n",
    "\n",
    "- Documentations:\n",
    "    - **Search Recent Tweets** (search tweets from last 7 days)\n",
    "        - [Twitter API](https://developer.twitter.com/en/docs/twitter-api/tweets/search/api-reference/get-tweets-search-recent)\n",
    "        - [Tweepy](https://docs.tweepy.org/en/stable/client.html#tweepy.Client.search_recent_tweets)\n",
    "    - **Search All Tweets** (full-archive search, available in **Academic Research Product Track**)\n",
    "        - [Twitter API](https://developer.twitter.com/en/docs/twitter-api/tweets/search/api-reference/get-tweets-search-all)\n",
    "        - [Tweepy](https://docs.tweepy.org/en/stable/client.html#tweepy.Client.search_all_tweets)\n",
    "\n",
    "- You need to specify a **search query**, **start date**, and **end date**. If you don't specify start date and end date, by default, you will get most recent tweets.\n",
    "    - [How to write search queries](https://github.com/twitterdev/getting-started-with-the-twitter-api-v2-for-academic-research/blob/main/modules/5-how-to-write-search-queries.md)\n",
    "    - [Building queries for Search Tweets](https://developer.twitter.com/en/docs/twitter-api/tweets/search/integrate/build-a-query)\n",
    "    - Twitter uses the following date format: **YYYY-MM-DDTHH:mm:ssZ** (ISO 8601/RFC 3339)\n",
    "        - For example, 2023-03-23T16:50:00Z\n",
    "        - You can write a function that converts dates in this format, e.g.,\n",
    "        \n",
    "        ```python\n",
    "        def date_converter(date):\n",
    "        \"\"\"\n",
    "        Convert python datetime object to ISO 8601/RFC 3339 format\n",
    "        \"\"\"\n",
    "            return date.strftime(\"%Y-%m-%dT%H:%M:%SZ\")\n",
    "        ```\n",
    "- You can get a more detailed response by specifying expansions and fields.\n",
    "    - [Expansions and Fields (Tweepy)](https://docs.tweepy.org/en/stable/expansions_and_fields.html)\n",
    "    - [Expansions (Twitter API)](https://developer.twitter.com/en/docs/twitter-api/expansions)\n",
    "    - [Fields (Twitter API)](https://developer.twitter.com/en/docs/twitter-api/fields)\n",
    "- By default, you will get 10 tweets. You can increase this number up to 100 tweets in a single request. To get more tweets, you need to use Paginator (see below)."
   ]
  },
  {
   "cell_type": "markdown",
   "id": "c87cad1c",
   "metadata": {},
   "source": [
    "#### Search Recent Tweets"
   ]
  },
  {
   "cell_type": "code",
   "execution_count": 4,
   "id": "46800464",
   "metadata": {},
   "outputs": [],
   "source": [
    "# Simplest way to collect tweets, with a single keyword and default parameters\n",
    "query = \"seçim\"\n",
    "\n",
    "response = client.search_recent_tweets(query=query)"
   ]
  },
  {
   "cell_type": "code",
   "execution_count": 5,
   "id": "d8f3bc7a",
   "metadata": {},
   "outputs": [],
   "source": [
    "### Response\n",
    "#response"
   ]
  },
  {
   "cell_type": "markdown",
   "id": "15b7412d",
   "metadata": {},
   "source": [
    "- Response object includes the following fields:\n",
    "    - **data**: tweets\n",
    "    - **includes**: any additional fields you requested, i.e., tweet, user, media, poll & place fields \n",
    "    - **errors**\n",
    "    - **meta**: newest_id, oldest_id, result_count, next_token (these allow you to paginate or collect tweets before/after a certain tweet ID)"
   ]
  },
  {
   "cell_type": "code",
   "execution_count": 6,
   "id": "be06852f",
   "metadata": {},
   "outputs": [],
   "source": [
    "### Tweets\n",
    "#display(pd.DataFrame([tweet.data for tweet in response.data]))"
   ]
  },
  {
   "cell_type": "code",
   "execution_count": 7,
   "id": "fbb9c69d",
   "metadata": {},
   "outputs": [],
   "source": [
    "# Let's specify start_time, end_time, and add a tweet field\n",
    "query = \"seçim\"\n",
    "start_time = \"2023-03-20T00:00:00Z\"\n",
    "end_time = \"2023-03-21T00:00:00Z\"\n",
    "\n",
    "response = client.search_recent_tweets(query=query,\n",
    "                                       start_time=start_time,\n",
    "                                       end_time=end_time,\n",
    "                                       tweet_fields=[\"created_at\"])"
   ]
  },
  {
   "cell_type": "code",
   "execution_count": 8,
   "id": "500f7546",
   "metadata": {},
   "outputs": [],
   "source": [
    "### Response\n",
    "#response"
   ]
  },
  {
   "cell_type": "code",
   "execution_count": 9,
   "id": "3eed6d7e",
   "metadata": {},
   "outputs": [],
   "source": [
    "### Tweets\n",
    "#display(pd.DataFrame([tweet.data for tweet in response.data]))"
   ]
  },
  {
   "cell_type": "markdown",
   "id": "12817478",
   "metadata": {},
   "source": [
    "#### Search All Tweets"
   ]
  },
  {
   "cell_type": "code",
   "execution_count": 10,
   "id": "562a898e",
   "metadata": {},
   "outputs": [],
   "source": [
    "query = \"deprem -is:retweet\"\n",
    "start_time = \"2023-02-06T00:00:00Z\"\n",
    "end_time = \"2023-03-06T00:00:00Z\"\n",
    "\n",
    "response = client.search_all_tweets(query=query,\n",
    "                                    start_time=start_time,\n",
    "                                    end_time=end_time,\n",
    "                                    expansions=[\"author_id\", \"referenced_tweets.id\", \"edit_history_tweet_ids\",\n",
    "                                                \"in_reply_to_user_id\", \"attachments.media_keys\", \"attachments.poll_ids\",\n",
    "                                                \"geo.place_id\", \"entities.mentions.username\", \"referenced_tweets.id.author_id\"],\n",
    "                                    tweet_fields=[\"id\", \"text\", \"attachments\", \"author_id\", \"context_annotations\",\n",
    "                                                  \"conversation_id\", \"created_at\", \"entities\", \"geo\",\n",
    "                                                  \"in_reply_to_user_id\", \"lang\", \"possibly_sensitive\",\n",
    "                                                  \"public_metrics\", \"referenced_tweets\",\n",
    "                                                  \"reply_settings\", \"source\", \"withheld\"],\n",
    "                                    user_fields=[\"id\", \"name\", \"username\", \"created_at\", \"description\", \"entities\",\n",
    "                                                 \"location\", \"pinned_tweet_id\", \"profile_image_url\", \"protected\",\n",
    "                                                 \"public_metrics\", \"url\", \"verified\", \"withheld\"],\n",
    "                                    media_fields=[\"media_key\", \"type\", \"url\", \"duration_ms\", \"height\",\n",
    "                                                  \"non_public_metrics\", \"organic_metrics\", \"preview_image_url\",\n",
    "                                                  \"promoted_metrics\", \"public_metrics\", \"width\", \"alt_text\", \"variants\"],\n",
    "                                    place_fields=[\"full_name\", \"id\", \"contained_within\", \"country\", \"country_code\",\n",
    "                                                  \"geo\", \"name\", \"place_type\"],\n",
    "                                    poll_fields=[\"id\", \"options\", \"duration_minutes\", \"end_datetime\", \"voting_status\"],\n",
    "                                    max_results=100)"
   ]
  },
  {
   "cell_type": "code",
   "execution_count": 11,
   "id": "61a73454",
   "metadata": {
    "scrolled": false
   },
   "outputs": [],
   "source": [
    "### Response\n",
    "#response"
   ]
  },
  {
   "cell_type": "code",
   "execution_count": 12,
   "id": "4f78addc",
   "metadata": {},
   "outputs": [],
   "source": [
    "### Tweets\n",
    "#display(pd.DataFrame([tweet.data for tweet in response.data]))"
   ]
  },
  {
   "cell_type": "code",
   "execution_count": 13,
   "id": "6c0fb6d4",
   "metadata": {},
   "outputs": [],
   "source": [
    "### Users\n",
    "#display(pd.DataFrame([user.data for user in response.includes[\"users\"]]))"
   ]
  },
  {
   "cell_type": "code",
   "execution_count": 14,
   "id": "8679398c",
   "metadata": {},
   "outputs": [],
   "source": [
    "### Tweets (including referenced tweets)\n",
    "#display(pd.DataFrame([tweet.data for tweet in response.includes[\"tweets\"]]))"
   ]
  },
  {
   "cell_type": "code",
   "execution_count": 15,
   "id": "67c5bc49",
   "metadata": {},
   "outputs": [],
   "source": [
    "### Media\n",
    "#display(pd.DataFrame([tweet.data for tweet in response.includes[\"media\"]]))"
   ]
  },
  {
   "cell_type": "code",
   "execution_count": 16,
   "id": "2699c213",
   "metadata": {},
   "outputs": [],
   "source": [
    "### Places\n",
    "#display(pd.DataFrame([place.data for place in response.includes[\"places\"]]))"
   ]
  },
  {
   "cell_type": "code",
   "execution_count": 17,
   "id": "3d67bebe",
   "metadata": {},
   "outputs": [],
   "source": [
    "### Errors\n",
    "#pd.DataFrame(response.errors)"
   ]
  },
  {
   "cell_type": "markdown",
   "id": "c51b0e36",
   "metadata": {},
   "source": [
    "## Get Tweet Counts <a class=\"anchor\" id=\"get-tweet-counts\"></a>\n",
    "- Documentations:\n",
    "    - **Recent Tweet Counts** (get tweet counts from last 7 days)\n",
    "        - [Twitter API](https://developer.twitter.com/en/docs/twitter-api/tweets/counts/api-reference/get-tweets-counts-recent)\n",
    "        - [Tweepy](https://docs.tweepy.org/en/stable/client.html#tweepy.Client.get_recent_tweets_count)\n",
    "    - **All Tweet Counts** (full-archive search, available in **Academic Research Product Track**)\n",
    "        - [Twitter API](https://developer.twitter.com/en/docs/twitter-api/tweets/counts/api-reference/get-tweets-counts-all)\n",
    "        - [Tweepy](https://docs.tweepy.org/en/stable/client.html#tweepy.Client.get_all_tweets_count)\n",
    "- You need to specify a **search query**, **start date**, **end date**, and **granularity** (\"minute\", \"hour\" or \"day\")."
   ]
  },
  {
   "cell_type": "code",
   "execution_count": 18,
   "id": "ac1c5681",
   "metadata": {},
   "outputs": [],
   "source": [
    "query = \"lang:tr place_country:TR\"\n",
    "start_time = \"2023-03-21T00:00:00Z\"\n",
    "end_time = \"2023-03-22T00:00:00Z\"\n",
    "\n",
    "response = client.get_recent_tweets_count(query=query,\n",
    "                                          start_time=start_time,\n",
    "                                          end_time=end_time,\n",
    "                                          granularity=\"hour\")"
   ]
  },
  {
   "cell_type": "code",
   "execution_count": 19,
   "id": "f08d4194",
   "metadata": {},
   "outputs": [],
   "source": [
    "### Response\n",
    "#response"
   ]
  },
  {
   "cell_type": "code",
   "execution_count": 20,
   "id": "93e5930f",
   "metadata": {},
   "outputs": [],
   "source": [
    "### Tweet Counts\n",
    "#pd.DataFrame(response.data)[[\"start\", \"end\", \"tweet_count\"]]"
   ]
  },
  {
   "cell_type": "code",
   "execution_count": 21,
   "id": "20372921",
   "metadata": {},
   "outputs": [],
   "source": [
    "query = \"lang:tr place_country:TR\"\n",
    "start_time = \"2023-02-01T00:00:00Z\"\n",
    "end_time = \"2023-02-28T00:00:00Z\"\n",
    "\n",
    "response = client.get_all_tweets_count(query=query,\n",
    "                                       start_time=start_time,\n",
    "                                       end_time=end_time,\n",
    "                                       granularity=\"day\")"
   ]
  },
  {
   "cell_type": "code",
   "execution_count": 22,
   "id": "9c63bb28",
   "metadata": {},
   "outputs": [],
   "source": [
    "### Tweet Counts\n",
    "#pd.DataFrame(response.data)[[\"start\", \"end\", \"tweet_count\"]]"
   ]
  },
  {
   "cell_type": "markdown",
   "id": "926a1303",
   "metadata": {},
   "source": [
    "### Get User(s) (a.k.a User Lookup) <a class=\"anchor\" id=\"get-users\"></a>\n",
    "\n",
    "- Documentations:\n",
    "    - **Get User**\n",
    "        - [Twitter API, with user ID](https://developer.twitter.com/en/docs/twitter-api/users/lookup/api-reference/get-users-id)\n",
    "        - [Twitter API, with username](https://developer.twitter.com/en/docs/twitter-api/users/lookup/api-reference/get-users-by-username-username)\n",
    "        - [Tweepy](https://docs.tweepy.org/en/stable/client.html#tweepy.Client.get_user)\n",
    "    - **Get Users** (multiple accounts, up to 100 in one request)\n",
    "        - [Twitter API, with user ID](https://developer.twitter.com/en/docs/twitter-api/users/lookup/api-reference/get-users)\n",
    "        - [Twitter API, with username](https://developer.twitter.com/en/docs/twitter-api/users/lookup/api-reference/get-users-by)\n",
    "        - [Tweepy](https://docs.tweepy.org/en/stable/client.html#tweepy.Client.get_users)"
   ]
  },
  {
   "cell_type": "markdown",
   "id": "ccb68ab5",
   "metadata": {},
   "source": [
    "#### Get User"
   ]
  },
  {
   "cell_type": "code",
   "execution_count": 23,
   "id": "14609727",
   "metadata": {},
   "outputs": [],
   "source": [
    "### Get user with username\n",
    "response = client.get_user(username=\"TwitterDev\")"
   ]
  },
  {
   "cell_type": "code",
   "execution_count": 24,
   "id": "462eff08",
   "metadata": {},
   "outputs": [],
   "source": [
    "#response.data.data"
   ]
  },
  {
   "cell_type": "code",
   "execution_count": 25,
   "id": "6fc004fd",
   "metadata": {},
   "outputs": [],
   "source": [
    "### Get user with user ID\n",
    "response = client.get_user(id=2244994945)"
   ]
  },
  {
   "cell_type": "code",
   "execution_count": 26,
   "id": "16709886",
   "metadata": {},
   "outputs": [],
   "source": [
    "#response.data.data"
   ]
  },
  {
   "cell_type": "code",
   "execution_count": 27,
   "id": "1be38f4d",
   "metadata": {},
   "outputs": [],
   "source": [
    "### Include user fields\n",
    "response = client.get_user(username=\"TwitterDev\",\n",
    "                           user_fields=[\"id\", \"name\", \"username\", \"created_at\", \"description\", \"entities\",\n",
    "                                        \"location\", \"pinned_tweet_id\", \"profile_image_url\", \"protected\",\n",
    "                                        \"public_metrics\", \"url\", \"verified\", \"withheld\"])"
   ]
  },
  {
   "cell_type": "code",
   "execution_count": 28,
   "id": "9c788fd5",
   "metadata": {},
   "outputs": [],
   "source": [
    "#response.data.data"
   ]
  },
  {
   "cell_type": "markdown",
   "id": "98d3d748",
   "metadata": {},
   "source": [
    "#### Get Users"
   ]
  },
  {
   "cell_type": "code",
   "execution_count": 29,
   "id": "7cdbed5c",
   "metadata": {},
   "outputs": [],
   "source": [
    "### Get multiple users\n",
    "response = client.get_users(usernames=[\"TwitterDev\", \"Twitter\"],\n",
    "                            user_fields=[\"id\", \"name\", \"username\", \"created_at\", \"description\", \"entities\",\n",
    "                                        \"location\", \"pinned_tweet_id\", \"profile_image_url\", \"protected\",\n",
    "                                        \"public_metrics\", \"url\", \"verified\", \"withheld\"])"
   ]
  },
  {
   "cell_type": "code",
   "execution_count": 30,
   "id": "0362e326",
   "metadata": {},
   "outputs": [],
   "source": [
    "#pd.DataFrame([user.data for user in response.data])"
   ]
  },
  {
   "cell_type": "markdown",
   "id": "1b4db37e",
   "metadata": {},
   "source": [
    "### Collect User's Tweets (Timeline) & Likes <a class=\"anchor\" id=\"collect-users-tweets\"></a>\n",
    "\n",
    "- Documentations:\n",
    "    - **Get User's Tweets (Timeline)**\n",
    "        - [Twitter API](https://developer.twitter.com/en/docs/twitter-api/tweets/timelines/api-reference/get-users-id-tweets)\n",
    "        - [Tweepy](https://docs.tweepy.org/en/stable/client.html#tweepy.Client.get_users_tweets)\n",
    "    - **Get User's Liked Tweets (Favorites)**\n",
    "        - [Twitter API](https://developer.twitter.com/en/docs/twitter-api/tweets/likes/api-reference/get-users-id-liked_tweets)\n",
    "        - [Tweepy](https://docs.tweepy.org/en/stable/client.html#tweepy.Client.get_liked_tweets)\n",
    "- You can use expansions and fields to get more detailed tweet & user objects."
   ]
  },
  {
   "cell_type": "markdown",
   "id": "5c6d479f",
   "metadata": {},
   "source": [
    "#### Get User's Tweets (Timeline)"
   ]
  },
  {
   "cell_type": "code",
   "execution_count": 31,
   "id": "83a9a354",
   "metadata": {},
   "outputs": [],
   "source": [
    "response = client.get_users_tweets(id=2244994945,\n",
    "                                   expansions=\"author_id\",\n",
    "                                   max_results=100)"
   ]
  },
  {
   "cell_type": "code",
   "execution_count": 32,
   "id": "f7d5e88e",
   "metadata": {},
   "outputs": [],
   "source": [
    "#pd.DataFrame([tweet.data for tweet in response.data])"
   ]
  },
  {
   "cell_type": "markdown",
   "id": "3b1c5c13",
   "metadata": {},
   "source": [
    "#### Get User's Liked Tweets (Favorites)"
   ]
  },
  {
   "cell_type": "code",
   "execution_count": 33,
   "id": "017fdd7f",
   "metadata": {},
   "outputs": [],
   "source": [
    "response = client.get_liked_tweets(id=2244994945,\n",
    "                                   expansions=\"author_id\",\n",
    "                                   max_results=100)"
   ]
  },
  {
   "cell_type": "code",
   "execution_count": 34,
   "id": "8a23b8f3",
   "metadata": {},
   "outputs": [],
   "source": [
    "#pd.DataFrame([tweet.data for tweet in response.data])"
   ]
  },
  {
   "cell_type": "markdown",
   "id": "dd06a4e0",
   "metadata": {},
   "source": [
    "### Collect User's Followers & Following\n",
    "\n",
    "- Documentations:\n",
    "    - **Get User's Followers**\n",
    "        - [Twitter API](https://developer.twitter.com/en/docs/twitter-api/tweets/timelines/api-reference/get-users-id-tweets)\n",
    "        - [Tweepy](https://docs.tweepy.org/en/stable/client.html#tweepy.Client.get_users_tweets)\n",
    "    - **Get User's Following**\n",
    "        - [Twitter API](https://developer.twitter.com/en/docs/twitter-api/tweets/likes/api-reference/get-users-id-liked_tweets)\n",
    "        - [Tweepy](https://docs.tweepy.org/en/stable/client.html#tweepy.Client.get_liked_tweets)\n",
    "- You can use fields to get more detailed user objects."
   ]
  },
  {
   "cell_type": "code",
   "execution_count": 35,
   "id": "05165ca1",
   "metadata": {},
   "outputs": [],
   "source": [
    "response = client.get_users_followers(id=2244994945)"
   ]
  },
  {
   "cell_type": "code",
   "execution_count": 36,
   "id": "27245116",
   "metadata": {},
   "outputs": [],
   "source": [
    "### Followers\n",
    "#pd.DataFrame([user.data for user in response.data])"
   ]
  },
  {
   "cell_type": "code",
   "execution_count": 37,
   "id": "fbe07837",
   "metadata": {},
   "outputs": [],
   "source": [
    "response = client.get_users_following(id=2244994945)"
   ]
  },
  {
   "cell_type": "code",
   "execution_count": 38,
   "id": "6375ab8f",
   "metadata": {},
   "outputs": [],
   "source": [
    "### Following\n",
    "#pd.DataFrame([user.data for user in response.data])"
   ]
  },
  {
   "cell_type": "markdown",
   "id": "0932da54",
   "metadata": {},
   "source": [
    "### Pagination <a class=\"anchor\" id=\"pagination\"></a>\n",
    "\n",
    "- Documentations:\n",
    "    - **Pagination**\n",
    "        - [Twitter API](https://developer.twitter.com/en/docs/twitter-api/pagination)\n",
    "        - [Tweepy](https://docs.tweepy.org/en/stable/v2_pagination.html)"
   ]
  },
  {
   "cell_type": "code",
   "execution_count": 39,
   "id": "9ca25a13",
   "metadata": {},
   "outputs": [],
   "source": [
    "tweets = []\n",
    "for tweet in tweepy.Paginator(client.search_recent_tweets, \"seçim\",\n",
    "                              max_results=100, limit=20).flatten(limit=1000):\n",
    "    tweets.append(tweet)"
   ]
  },
  {
   "cell_type": "code",
   "execution_count": 40,
   "id": "c555bf8a",
   "metadata": {},
   "outputs": [
    {
     "data": {
      "text/plain": [
       "1000"
      ]
     },
     "execution_count": 40,
     "metadata": {},
     "output_type": "execute_result"
    }
   ],
   "source": [
    "len(tweets)"
   ]
  },
  {
   "cell_type": "code",
   "execution_count": 41,
   "id": "f6808d60",
   "metadata": {},
   "outputs": [],
   "source": [
    "#display(pd.DataFrame(tweets))"
   ]
  },
  {
   "cell_type": "markdown",
   "id": "b18a3189",
   "metadata": {},
   "source": [
    "## 2- Web Scraping <a class=\"anchor\" id=\"web-scraping\"></a>\n",
    "\n",
    "- Documentations:\n",
    "    - [Requests](https://requests.readthedocs.io/en/latest/)\n",
    "    - [BeautifulSoup](https://beautiful-soup-4.readthedocs.io/en/latest/)\n",
    "    - [Selenium](https://selenium-python.readthedocs.io/)\n",
    "- Tutorials:\n",
    "    - [Social ComQuant Workshop #10: Automatic Data Collection (GitHub Repo)](https://github.com/strohne/autocol)\n",
    "    - [Web Scraping in Python (DataCamp)](https://app.datacamp.com/learn/courses/web-scraping-with-python)"
   ]
  },
  {
   "cell_type": "markdown",
   "id": "8df2d41a",
   "metadata": {},
   "source": [
    "### Web Scraping with Requests & Beautiful Soup <a class=\"anchor\" id=\"requests-bs4\"></a>"
   ]
  },
  {
   "cell_type": "code",
   "execution_count": 42,
   "id": "cf310fe7",
   "metadata": {},
   "outputs": [],
   "source": [
    "import requests\n",
    "from bs4 import BeautifulSoup\n",
    "import pandas as pd"
   ]
  },
  {
   "cell_type": "code",
   "execution_count": 43,
   "id": "01233664",
   "metadata": {},
   "outputs": [
    {
     "name": "stdout",
     "output_type": "stream",
     "text": [
      "200\n"
     ]
    }
   ],
   "source": [
    "url = \"https://www.tbmm.gov.tr/Tutanaklar/TutanakMetinleri\"\n",
    "r = requests.get(url)\n",
    "print(r.status_code)"
   ]
  },
  {
   "cell_type": "markdown",
   "id": "69810602",
   "metadata": {},
   "source": [
    "#### [Status Codes](https://en.wikipedia.org/wiki/List_of_HTTP_status_codes):\n",
    "\n",
    "- 1xx informational response – the request was received, continuing process\n",
    "- 2xx successful – the request was successfully received, understood, and accepted\n",
    "- 3xx redirection – further action needs to be taken in order to complete the request\n",
    "- 4xx client error – the request contains bad syntax or cannot be fulfilled\n",
    "- 5xx server error – the server failed to fulfill an apparently valid request"
   ]
  },
  {
   "cell_type": "code",
   "execution_count": 44,
   "id": "9c0df707",
   "metadata": {},
   "outputs": [],
   "source": [
    "html_doc = r.text\n",
    "soup = BeautifulSoup(html_doc, 'html.parser')"
   ]
  },
  {
   "cell_type": "code",
   "execution_count": 45,
   "id": "334553b0",
   "metadata": {},
   "outputs": [],
   "source": [
    "#print(soup.prettify())"
   ]
  },
  {
   "cell_type": "code",
   "execution_count": 46,
   "id": "a318c86a",
   "metadata": {},
   "outputs": [],
   "source": [
    "table = soup.find(\"div\", attrs={\"class\":\"blog-content tbmm-div-list\"})"
   ]
  },
  {
   "cell_type": "code",
   "execution_count": 47,
   "id": "5abb33ed",
   "metadata": {},
   "outputs": [],
   "source": [
    "#print(table.prettify())"
   ]
  },
  {
   "cell_type": "code",
   "execution_count": 48,
   "id": "ea87b34f",
   "metadata": {},
   "outputs": [],
   "source": [
    "list_groups = table.find_all(\"ul\")"
   ]
  },
  {
   "cell_type": "code",
   "execution_count": 49,
   "id": "6843dfa5",
   "metadata": {},
   "outputs": [],
   "source": [
    "#list_group = list_groups[0]\n",
    "#print(list_group.prettify())"
   ]
  },
  {
   "cell_type": "code",
   "execution_count": 50,
   "id": "1268c124",
   "metadata": {},
   "outputs": [],
   "source": [
    "urls = []\n",
    "texts = []\n",
    "\n",
    "for list_group in list_groups:\n",
    "    urls.extend([item.find(\"a\").get(\"href\") for item in list_group.find_all(\"li\")])\n",
    "    texts.extend([item.find(\"a\").text.strip() for item in list_group.find_all(\"li\")])"
   ]
  },
  {
   "cell_type": "code",
   "execution_count": 51,
   "id": "cd780e98",
   "metadata": {},
   "outputs": [],
   "source": [
    "tutanak_df = pd.concat([pd.Series(urls, name=\"url\"), pd.Series(texts, name=\"description\")], axis=1)"
   ]
  },
  {
   "cell_type": "code",
   "execution_count": 52,
   "id": "e64e5fed",
   "metadata": {},
   "outputs": [],
   "source": [
    "tutanak_df[\"url\"] = tutanak_df[\"url\"].apply(lambda x: \"https://www.tbmm.gov.tr\" + x)"
   ]
  },
  {
   "cell_type": "code",
   "execution_count": 53,
   "id": "4bf355dc",
   "metadata": {},
   "outputs": [],
   "source": [
    "tutanak_df[\"donem\"] = tutanak_df[\"url\"].apply(lambda x: x.split(\"?\")[1].split(\"=\")[1].split(\"&\")[0])"
   ]
  },
  {
   "cell_type": "code",
   "execution_count": 54,
   "id": "e29a907f",
   "metadata": {},
   "outputs": [
    {
     "data": {
      "text/html": [
       "<div>\n",
       "<style scoped>\n",
       "    .dataframe tbody tr th:only-of-type {\n",
       "        vertical-align: middle;\n",
       "    }\n",
       "\n",
       "    .dataframe tbody tr th {\n",
       "        vertical-align: top;\n",
       "    }\n",
       "\n",
       "    .dataframe thead th {\n",
       "        text-align: right;\n",
       "    }\n",
       "</style>\n",
       "<table border=\"1\" class=\"dataframe\">\n",
       "  <thead>\n",
       "    <tr style=\"text-align: right;\">\n",
       "      <th></th>\n",
       "      <th>url</th>\n",
       "      <th>description</th>\n",
       "      <th>donem</th>\n",
       "    </tr>\n",
       "  </thead>\n",
       "  <tbody>\n",
       "    <tr>\n",
       "      <th>0</th>\n",
       "      <td>https://www.tbmm.gov.tr/Tutanaklar/DoneminTuta...</td>\n",
       "      <td>6. Yasama Yılı Genel Kurul Tutanakları (1 Ekim...</td>\n",
       "      <td>27</td>\n",
       "    </tr>\n",
       "    <tr>\n",
       "      <th>1</th>\n",
       "      <td>https://www.tbmm.gov.tr/Tutanaklar/DoneminTuta...</td>\n",
       "      <td>5. Yasama Yılı Genel Kurul Tutanakları (1 Ekim...</td>\n",
       "      <td>27</td>\n",
       "    </tr>\n",
       "    <tr>\n",
       "      <th>2</th>\n",
       "      <td>https://www.tbmm.gov.tr/Tutanaklar/DoneminTuta...</td>\n",
       "      <td>4. Yasama Yılı Genel Kurul Tutanakları (1 Ekim...</td>\n",
       "      <td>27</td>\n",
       "    </tr>\n",
       "  </tbody>\n",
       "</table>\n",
       "</div>"
      ],
      "text/plain": [
       "                                                 url  \\\n",
       "0  https://www.tbmm.gov.tr/Tutanaklar/DoneminTuta...   \n",
       "1  https://www.tbmm.gov.tr/Tutanaklar/DoneminTuta...   \n",
       "2  https://www.tbmm.gov.tr/Tutanaklar/DoneminTuta...   \n",
       "\n",
       "                                         description donem  \n",
       "0  6. Yasama Yılı Genel Kurul Tutanakları (1 Ekim...    27  \n",
       "1  5. Yasama Yılı Genel Kurul Tutanakları (1 Ekim...    27  \n",
       "2  4. Yasama Yılı Genel Kurul Tutanakları (1 Ekim...    27  "
      ]
     },
     "execution_count": 54,
     "metadata": {},
     "output_type": "execute_result"
    }
   ],
   "source": [
    "tutanak_df.head(3)"
   ]
  },
  {
   "cell_type": "code",
   "execution_count": 55,
   "id": "10c37e44",
   "metadata": {},
   "outputs": [],
   "source": [
    "def collect_tutanak_htmls(url):\n",
    "    r = requests.get(url)\n",
    "    soup = BeautifulSoup(r.text, 'html.parser')\n",
    "    table = soup.find(\"table\")\n",
    "    birlesim_urls = [\"https://www.tbmm.gov.tr\" + item.find(\"td\").find(\"a\").get(\"href\") for item in table.find_all(\"tr\")]\n",
    "    \n",
    "    descriptions = []\n",
    "    word_urls = []\n",
    "    html_urls = []\n",
    "    for url in birlesim_urls:\n",
    "        r = requests.get(url)\n",
    "        soup = BeautifulSoup(r.text, 'html.parser')\n",
    "        \n",
    "        description = soup.find(\"div\", attrs={\"class\": \"col-8\"}).text.strip()\n",
    "        word_url = soup.find(\"a\", attrs={\"title\":\"Word Dosyası\"}).get(\"href\")\n",
    "        html_url = soup.find(\"a\", attrs={\"title\":\"Html Dosyası\"}).get(\"href\")\n",
    "        \n",
    "        descriptions.append(description)\n",
    "        word_urls.append(word_url)\n",
    "        html_urls.append(html_url)\n",
    "    return pd.concat([pd.Series(descriptions, name=\"description\"),\n",
    "                      pd.Series(word_urls, name=\"word_url\"),\n",
    "                      pd.Series(html_urls, name=\"html_url\")], axis=1)"
   ]
  },
  {
   "cell_type": "code",
   "execution_count": 56,
   "id": "b39a3985",
   "metadata": {},
   "outputs": [
    {
     "data": {
      "text/html": [
       "<div>\n",
       "<style scoped>\n",
       "    .dataframe tbody tr th:only-of-type {\n",
       "        vertical-align: middle;\n",
       "    }\n",
       "\n",
       "    .dataframe tbody tr th {\n",
       "        vertical-align: top;\n",
       "    }\n",
       "\n",
       "    .dataframe thead th {\n",
       "        text-align: right;\n",
       "    }\n",
       "</style>\n",
       "<table border=\"1\" class=\"dataframe\">\n",
       "  <thead>\n",
       "    <tr style=\"text-align: right;\">\n",
       "      <th></th>\n",
       "      <th>description</th>\n",
       "      <th>word_url</th>\n",
       "      <th>html_url</th>\n",
       "    </tr>\n",
       "  </thead>\n",
       "  <tbody>\n",
       "    <tr>\n",
       "      <th>0</th>\n",
       "      <td>27. DÖNEM 6. YASAMA YILI 78. BİRLEŞİM</td>\n",
       "      <td>https://cdn.tbmm.gov.tr/TbmmWeb/Tutanak2023012...</td>\n",
       "      <td>https://cdn.tbmm.gov.tr/TbmmWeb/Tutanak2023012...</td>\n",
       "    </tr>\n",
       "    <tr>\n",
       "      <th>1</th>\n",
       "      <td>27. DÖNEM 6. YASAMA YILI 77. BİRLEŞİM</td>\n",
       "      <td>https://cdn.tbmm.gov.tr/TbmmWeb/Tutanak2023012...</td>\n",
       "      <td>https://cdn.tbmm.gov.tr/TbmmWeb/Tutanak2023012...</td>\n",
       "    </tr>\n",
       "    <tr>\n",
       "      <th>2</th>\n",
       "      <td>27. DÖNEM 6. YASAMA YILI 76. BİRLEŞİM</td>\n",
       "      <td>https://cdn.tbmm.gov.tr/TbmmWeb/Tutanak2023012...</td>\n",
       "      <td>https://cdn.tbmm.gov.tr/TbmmWeb/Tutanak2023012...</td>\n",
       "    </tr>\n",
       "    <tr>\n",
       "      <th>3</th>\n",
       "      <td>27. DÖNEM 6. YASAMA YILI 75. BİRLEŞİM</td>\n",
       "      <td>https://cdn.tbmm.gov.tr/TbmmWeb/Tutanak2023012...</td>\n",
       "      <td>https://cdn.tbmm.gov.tr/TbmmWeb/Tutanak2023012...</td>\n",
       "    </tr>\n",
       "    <tr>\n",
       "      <th>4</th>\n",
       "      <td>27. DÖNEM 6. YASAMA YILI 74. BİRLEŞİM</td>\n",
       "      <td>https://cdn.tbmm.gov.tr/TbmmWeb/Tutanak2023012...</td>\n",
       "      <td>https://cdn.tbmm.gov.tr/TbmmWeb/Tutanak2023012...</td>\n",
       "    </tr>\n",
       "    <tr>\n",
       "      <th>...</th>\n",
       "      <td>...</td>\n",
       "      <td>...</td>\n",
       "      <td>...</td>\n",
       "    </tr>\n",
       "    <tr>\n",
       "      <th>73</th>\n",
       "      <td>27. DÖNEM 6. YASAMA YILI 5. BİRLEŞİM</td>\n",
       "      <td>https://cdn.tbmm.gov.tr/TbmmWeb/Tutanak2023012...</td>\n",
       "      <td>https://cdn.tbmm.gov.tr/TbmmWeb/Tutanak2023012...</td>\n",
       "    </tr>\n",
       "    <tr>\n",
       "      <th>74</th>\n",
       "      <td>27. DÖNEM 6. YASAMA YILI 4. BİRLEŞİM</td>\n",
       "      <td>https://cdn.tbmm.gov.tr/TbmmWeb/Tutanak2023012...</td>\n",
       "      <td>https://cdn.tbmm.gov.tr/TbmmWeb/Tutanak2023012...</td>\n",
       "    </tr>\n",
       "    <tr>\n",
       "      <th>75</th>\n",
       "      <td>27. DÖNEM 6. YASAMA YILI 3. BİRLEŞİM</td>\n",
       "      <td>https://cdn.tbmm.gov.tr/TbmmWeb/Tutanak2023012...</td>\n",
       "      <td>https://cdn.tbmm.gov.tr/TbmmWeb/Tutanak2023012...</td>\n",
       "    </tr>\n",
       "    <tr>\n",
       "      <th>76</th>\n",
       "      <td>27. DÖNEM 6. YASAMA YILI 2. BİRLEŞİM</td>\n",
       "      <td>https://cdn.tbmm.gov.tr/TbmmWeb/Tutanak2023012...</td>\n",
       "      <td>https://cdn.tbmm.gov.tr/TbmmWeb/Tutanak2023012...</td>\n",
       "    </tr>\n",
       "    <tr>\n",
       "      <th>77</th>\n",
       "      <td>27. DÖNEM 6. YASAMA YILI 1. BİRLEŞİM</td>\n",
       "      <td>https://cdn.tbmm.gov.tr/TbmmWeb/Tutanak2023012...</td>\n",
       "      <td>https://cdn.tbmm.gov.tr/TbmmWeb/Tutanak2023012...</td>\n",
       "    </tr>\n",
       "  </tbody>\n",
       "</table>\n",
       "<p>78 rows × 3 columns</p>\n",
       "</div>"
      ],
      "text/plain": [
       "                              description  \\\n",
       "0   27. DÖNEM 6. YASAMA YILI 78. BİRLEŞİM   \n",
       "1   27. DÖNEM 6. YASAMA YILI 77. BİRLEŞİM   \n",
       "2   27. DÖNEM 6. YASAMA YILI 76. BİRLEŞİM   \n",
       "3   27. DÖNEM 6. YASAMA YILI 75. BİRLEŞİM   \n",
       "4   27. DÖNEM 6. YASAMA YILI 74. BİRLEŞİM   \n",
       "..                                    ...   \n",
       "73   27. DÖNEM 6. YASAMA YILI 5. BİRLEŞİM   \n",
       "74   27. DÖNEM 6. YASAMA YILI 4. BİRLEŞİM   \n",
       "75   27. DÖNEM 6. YASAMA YILI 3. BİRLEŞİM   \n",
       "76   27. DÖNEM 6. YASAMA YILI 2. BİRLEŞİM   \n",
       "77   27. DÖNEM 6. YASAMA YILI 1. BİRLEŞİM   \n",
       "\n",
       "                                             word_url  \\\n",
       "0   https://cdn.tbmm.gov.tr/TbmmWeb/Tutanak2023012...   \n",
       "1   https://cdn.tbmm.gov.tr/TbmmWeb/Tutanak2023012...   \n",
       "2   https://cdn.tbmm.gov.tr/TbmmWeb/Tutanak2023012...   \n",
       "3   https://cdn.tbmm.gov.tr/TbmmWeb/Tutanak2023012...   \n",
       "4   https://cdn.tbmm.gov.tr/TbmmWeb/Tutanak2023012...   \n",
       "..                                                ...   \n",
       "73  https://cdn.tbmm.gov.tr/TbmmWeb/Tutanak2023012...   \n",
       "74  https://cdn.tbmm.gov.tr/TbmmWeb/Tutanak2023012...   \n",
       "75  https://cdn.tbmm.gov.tr/TbmmWeb/Tutanak2023012...   \n",
       "76  https://cdn.tbmm.gov.tr/TbmmWeb/Tutanak2023012...   \n",
       "77  https://cdn.tbmm.gov.tr/TbmmWeb/Tutanak2023012...   \n",
       "\n",
       "                                             html_url  \n",
       "0   https://cdn.tbmm.gov.tr/TbmmWeb/Tutanak2023012...  \n",
       "1   https://cdn.tbmm.gov.tr/TbmmWeb/Tutanak2023012...  \n",
       "2   https://cdn.tbmm.gov.tr/TbmmWeb/Tutanak2023012...  \n",
       "3   https://cdn.tbmm.gov.tr/TbmmWeb/Tutanak2023012...  \n",
       "4   https://cdn.tbmm.gov.tr/TbmmWeb/Tutanak2023012...  \n",
       "..                                                ...  \n",
       "73  https://cdn.tbmm.gov.tr/TbmmWeb/Tutanak2023012...  \n",
       "74  https://cdn.tbmm.gov.tr/TbmmWeb/Tutanak2023012...  \n",
       "75  https://cdn.tbmm.gov.tr/TbmmWeb/Tutanak2023012...  \n",
       "76  https://cdn.tbmm.gov.tr/TbmmWeb/Tutanak2023012...  \n",
       "77  https://cdn.tbmm.gov.tr/TbmmWeb/Tutanak2023012...  \n",
       "\n",
       "[78 rows x 3 columns]"
      ]
     },
     "metadata": {},
     "output_type": "display_data"
    }
   ],
   "source": [
    "### Run the collect_tutanak_htmls function over a single url in tutanak_df\n",
    "df = collect_tutanak_htmls(tutanak_df.loc[0, \"url\"])\n",
    "display(df)"
   ]
  },
  {
   "cell_type": "code",
   "execution_count": 57,
   "id": "d0dbefe7",
   "metadata": {},
   "outputs": [],
   "source": [
    "### Run the collect_tutanak_htmls function over all urls in tutanak_df\n",
    "### Warning: This will take some time!\n",
    "#\n",
    "#tutanak_html_urls = pd.DataFrame()\n",
    "#\n",
    "#for i, url in enumerate(tutanak_df[\"url\"]):\n",
    "#    print(f\"{i+1}/{len(tutanak_df)}- Collecting {url}\")\n",
    "#    df = collect_tutanak_htmls(url)\n",
    "#    tutanak_html_urls = pd.concat([tutanak_html_urls, df]).reset_index(drop=True)\n",
    "#print(\"Completed!\")"
   ]
  },
  {
   "cell_type": "markdown",
   "id": "0e82e95d",
   "metadata": {},
   "source": [
    "### Interacting with Websites using Selenium <a class=\"anchor\" id=\"selenium\"></a>"
   ]
  },
  {
   "cell_type": "code",
   "execution_count": 58,
   "id": "963768c5",
   "metadata": {},
   "outputs": [],
   "source": [
    "from selenium import webdriver\n",
    "from selenium.webdriver.common.keys import Keys\n",
    "from selenium.webdriver.common.by import By\n",
    "from selenium.webdriver.support.ui import Select\n",
    "from selenium.common.exceptions import NoSuchElementException\n",
    "from selenium.webdriver.chrome.service import Service as ChromeService\n",
    "from webdriver_manager.chrome import ChromeDriverManager # webdriver_manager allows you to easily install latest webdriver of different browsers"
   ]
  },
  {
   "cell_type": "code",
   "execution_count": 59,
   "id": "50e96a4b",
   "metadata": {},
   "outputs": [
    {
     "name": "stderr",
     "output_type": "stream",
     "text": [
      "[WDM] - Current google-chrome version is 111.0.5563\n",
      "[WDM] - Get LATEST driver version for 111.0.5563\n",
      "[WDM] - Driver [C:\\Users\\melihcanyardi\\.wdm\\drivers\\chromedriver\\win32\\111.0.5563.64\\chromedriver.exe] found in cache\n"
     ]
    },
    {
     "name": "stdout",
     "output_type": "stream",
     "text": [
      " \n"
     ]
    }
   ],
   "source": [
    "driver = webdriver.Chrome(service=ChromeService(ChromeDriverManager().install()))\n",
    "driver.maximize_window()"
   ]
  },
  {
   "cell_type": "code",
   "execution_count": 60,
   "id": "d89b8467",
   "metadata": {},
   "outputs": [],
   "source": [
    "url = \"https://www.tbmm.gov.tr/milletvekili-arama/form\"\n",
    "driver.get(url)"
   ]
  },
  {
   "cell_type": "code",
   "execution_count": 61,
   "id": "1c71df3b",
   "metadata": {},
   "outputs": [],
   "source": [
    "input_ad = driver.find_element(By.XPATH, \"\"\"//*[@id=\"Adi\"]\"\"\")\n",
    "#input_ad.send_keys(\"bla bla\")\n",
    "#input_ad.clear()"
   ]
  },
  {
   "cell_type": "code",
   "execution_count": 62,
   "id": "05790b94",
   "metadata": {},
   "outputs": [],
   "source": [
    "select_il = Select(driver.find_element(By.XPATH, \"\"\"//*[@id=\"IlId\"]\"\"\"))\n",
    "select_il.select_by_visible_text(\"İstanbul\")"
   ]
  },
  {
   "cell_type": "code",
   "execution_count": 63,
   "id": "2e438abb",
   "metadata": {},
   "outputs": [],
   "source": [
    "select_donem = Select(driver.find_element(By.XPATH, \"\"\"//*[@id=\"DonemId\"]\"\"\"))\n",
    "select_donem.select_by_visible_text(\"Tüm Dönemler\")"
   ]
  },
  {
   "cell_type": "code",
   "execution_count": 64,
   "id": "5121de96",
   "metadata": {},
   "outputs": [],
   "source": [
    "select_parti = Select(driver.find_element(By.XPATH, \"\"\"//*[@id=\"PartiId\"]\"\"\"))\n",
    "select_parti.select_by_visible_text(\"AK Parti\")"
   ]
  },
  {
   "cell_type": "code",
   "execution_count": 65,
   "id": "9e300b93",
   "metadata": {},
   "outputs": [],
   "source": [
    "sorgula_button = driver.find_element(By.XPATH, \"\"\"/html/body/div[1]/div/div/div[1]/div[2]/form/div[7]/div/button\"\"\")\n",
    "sorgula_button.click()"
   ]
  },
  {
   "cell_type": "code",
   "execution_count": 66,
   "id": "3dcc2a43",
   "metadata": {},
   "outputs": [],
   "source": [
    "### Scroll down\n",
    "driver.find_element(By.TAG_NAME, \"body\").send_keys(Keys.CONTROL + Keys.END)"
   ]
  },
  {
   "cell_type": "code",
   "execution_count": 67,
   "id": "8b4df7e5",
   "metadata": {},
   "outputs": [],
   "source": [
    "### Scroll down until the end\n",
    "while True:\n",
    "    try:\n",
    "        driver.find_element(By.TAG_NAME, \"body\").send_keys(Keys.CONTROL + Keys.END)\n",
    "        driver.find_element(By.XPATH, \"\"\"//*[@id=\"load-btn\"]\"\"\")\n",
    "    except NoSuchElementException:\n",
    "        break"
   ]
  },
  {
   "cell_type": "code",
   "execution_count": 68,
   "id": "41b70036",
   "metadata": {},
   "outputs": [],
   "source": [
    "html_doc = driver.page_source\n",
    "soup = BeautifulSoup(html_doc, \"html.parser\")\n",
    "milletvekilleri = soup.find(\"div\", attrs={\"class\":\"blog-content tbmm-div-list\"}).find_all(\"div\", attrs={\"class\": \"row profile-list\"})"
   ]
  },
  {
   "cell_type": "code",
   "execution_count": 69,
   "id": "ad347b87",
   "metadata": {},
   "outputs": [
    {
     "data": {
      "text/plain": [
       "257"
      ]
     },
     "execution_count": 69,
     "metadata": {},
     "output_type": "execute_result"
    }
   ],
   "source": [
    "len(milletvekilleri)"
   ]
  },
  {
   "cell_type": "code",
   "execution_count": 70,
   "id": "1a1ebec3",
   "metadata": {},
   "outputs": [],
   "source": [
    "isim_soyisim = [' '.join(milletvekili.find(\"div\", attrs={\"class\":\"col-8 col-md-9\"}).find(\"strong\").text.strip().split()[:-1]) for milletvekili in milletvekilleri]\n",
    "gorev_listesi = [milletvekili.find(\"span\", attrs={\"class\":\"gorev_listesi\"}).text.strip() for milletvekili in milletvekilleri]\n",
    "adresler = [milletvekili.find(\"table\").find_all(\"tr\")[0].find_all(\"td\")[2].text.strip() for milletvekili in milletvekilleri]\n",
    "telefonlar = [milletvekili.find(\"table\").find_all(\"tr\")[1].find_all(\"td\")[2].text.strip() for milletvekili in milletvekilleri]\n",
    "fakslar = [milletvekili.find(\"table\").find_all(\"tr\")[2].find_all(\"td\")[2].text.strip() for milletvekili in milletvekilleri]\n",
    "profile_images = [milletvekili.find(\"div\", attrs={\"class\":\"col-4 col-md-3\"}).find(\"img\").get(\"src\") for milletvekili in milletvekilleri]"
   ]
  },
  {
   "cell_type": "code",
   "execution_count": 71,
   "id": "7d8e75c7",
   "metadata": {},
   "outputs": [
    {
     "data": {
      "text/html": [
       "<div>\n",
       "<style scoped>\n",
       "    .dataframe tbody tr th:only-of-type {\n",
       "        vertical-align: middle;\n",
       "    }\n",
       "\n",
       "    .dataframe tbody tr th {\n",
       "        vertical-align: top;\n",
       "    }\n",
       "\n",
       "    .dataframe thead th {\n",
       "        text-align: right;\n",
       "    }\n",
       "</style>\n",
       "<table border=\"1\" class=\"dataframe\">\n",
       "  <thead>\n",
       "    <tr style=\"text-align: right;\">\n",
       "      <th></th>\n",
       "      <th>isim_soyisim</th>\n",
       "      <th>gorev_listesi</th>\n",
       "      <th>adres</th>\n",
       "      <th>telefon</th>\n",
       "      <th>faks</th>\n",
       "      <th>profil_resmi</th>\n",
       "    </tr>\n",
       "  </thead>\n",
       "  <tbody>\n",
       "    <tr>\n",
       "      <th>0</th>\n",
       "      <td>Abdullah GÜLER</td>\n",
       "      <td>(10 / 3200, 3361, 3362, 3364, 3365) Esas Numar...</td>\n",
       "      <td>Halkla İlişkiler Binası 2 .Kat 4 Nolu Banko Od...</td>\n",
       "      <td>+90 (312) 420 57 00  +90 (312) 420 57 01</td>\n",
       "      <td>+90 (312) 420 21 51</td>\n",
       "      <td>https://www5.tbmm.gov.tr/develop/owa/display_i...</td>\n",
       "    </tr>\n",
       "    <tr>\n",
       "      <th>1</th>\n",
       "      <td>Ahmet Berat ÇONKAR</td>\n",
       "      <td>Dışişleri Komisyonu Başkanvekili              ...</td>\n",
       "      <td>Halkla İlişkiler Binası 5 .Kat 4 Nolu Banko Od...</td>\n",
       "      <td>+90 (312) 420 54 15  +90 (312) 420 54 16</td>\n",
       "      <td>+90 (312) 420 20 43</td>\n",
       "      <td>https://www5.tbmm.gov.tr/develop/owa/display_i...</td>\n",
       "    </tr>\n",
       "    <tr>\n",
       "      <th>2</th>\n",
       "      <td>Ahmet Hamdi ÇAMLI</td>\n",
       "      <td>Dışişleri Komisyonu Üyesi</td>\n",
       "      <td>Halkla İlişkiler Binası 4 .Kat 3 Nolu Banko Od...</td>\n",
       "      <td>+90 (312) 420 60 26  +90 (312) 420 60 27</td>\n",
       "      <td>+90 (312) 420 25 03</td>\n",
       "      <td>https://www5.tbmm.gov.tr/develop/owa/display_i...</td>\n",
       "    </tr>\n",
       "    <tr>\n",
       "      <th>3</th>\n",
       "      <td>Ahmet Mücahit ARINÇ</td>\n",
       "      <td>Milli Eğitim, Kültür, Gençlik Ve Spor Komisyon...</td>\n",
       "      <td>Halkla İlişkiler Binası Z .Kat 2 Nolu Banko Od...</td>\n",
       "      <td>+90 (312) 420 59 98  +90 (312) 420 59 99</td>\n",
       "      <td>+90 (312) 420 22 86</td>\n",
       "      <td>https://www5.tbmm.gov.tr/develop/owa/display_i...</td>\n",
       "    </tr>\n",
       "    <tr>\n",
       "      <th>4</th>\n",
       "      <td>Akif Çağatay KILIÇ</td>\n",
       "      <td>Dışişleri Komisyonu Başkanı</td>\n",
       "      <td>Halkla İlişkiler Binası 4 .Kat 1 Nolu Banko Od...</td>\n",
       "      <td>+90 (312) 420 53 33  +90 (312) 420 53 36</td>\n",
       "      <td>+90 (312) 420 21 13</td>\n",
       "      <td>https://www5.tbmm.gov.tr/develop/owa/display_i...</td>\n",
       "    </tr>\n",
       "  </tbody>\n",
       "</table>\n",
       "</div>"
      ],
      "text/plain": [
       "          isim_soyisim                                      gorev_listesi  \\\n",
       "0       Abdullah GÜLER  (10 / 3200, 3361, 3362, 3364, 3365) Esas Numar...   \n",
       "1   Ahmet Berat ÇONKAR  Dışişleri Komisyonu Başkanvekili              ...   \n",
       "2    Ahmet Hamdi ÇAMLI                          Dışişleri Komisyonu Üyesi   \n",
       "3  Ahmet Mücahit ARINÇ  Milli Eğitim, Kültür, Gençlik Ve Spor Komisyon...   \n",
       "4   Akif Çağatay KILIÇ                        Dışişleri Komisyonu Başkanı   \n",
       "\n",
       "                                               adres  \\\n",
       "0  Halkla İlişkiler Binası 2 .Kat 4 Nolu Banko Od...   \n",
       "1  Halkla İlişkiler Binası 5 .Kat 4 Nolu Banko Od...   \n",
       "2  Halkla İlişkiler Binası 4 .Kat 3 Nolu Banko Od...   \n",
       "3  Halkla İlişkiler Binası Z .Kat 2 Nolu Banko Od...   \n",
       "4  Halkla İlişkiler Binası 4 .Kat 1 Nolu Banko Od...   \n",
       "\n",
       "                                    telefon                 faks  \\\n",
       "0  +90 (312) 420 57 00  +90 (312) 420 57 01  +90 (312) 420 21 51   \n",
       "1  +90 (312) 420 54 15  +90 (312) 420 54 16  +90 (312) 420 20 43   \n",
       "2  +90 (312) 420 60 26  +90 (312) 420 60 27  +90 (312) 420 25 03   \n",
       "3  +90 (312) 420 59 98  +90 (312) 420 59 99  +90 (312) 420 22 86   \n",
       "4  +90 (312) 420 53 33  +90 (312) 420 53 36  +90 (312) 420 21 13   \n",
       "\n",
       "                                        profil_resmi  \n",
       "0  https://www5.tbmm.gov.tr/develop/owa/display_i...  \n",
       "1  https://www5.tbmm.gov.tr/develop/owa/display_i...  \n",
       "2  https://www5.tbmm.gov.tr/develop/owa/display_i...  \n",
       "3  https://www5.tbmm.gov.tr/develop/owa/display_i...  \n",
       "4  https://www5.tbmm.gov.tr/develop/owa/display_i...  "
      ]
     },
     "execution_count": 71,
     "metadata": {},
     "output_type": "execute_result"
    }
   ],
   "source": [
    "milletvekilleri_df = pd.concat([pd.Series(isim_soyisim, name=\"isim_soyisim\"),\n",
    "                                pd.Series(gorev_listesi, name=\"gorev_listesi\"),\n",
    "                                pd.Series(adresler, name=\"adres\"),\n",
    "                                pd.Series(telefonlar, name=\"telefon\"),\n",
    "                                pd.Series(fakslar, name=\"faks\"),\n",
    "                                pd.Series(profile_images, name=\"profil_resmi\")], axis=1)\n",
    "milletvekilleri_df.head()"
   ]
  },
  {
   "cell_type": "code",
   "execution_count": 72,
   "id": "20022284",
   "metadata": {},
   "outputs": [],
   "source": [
    "driver.close()"
   ]
  }
 ],
 "metadata": {
  "kernelspec": {
   "display_name": "Python 3 (ipykernel)",
   "language": "python",
   "name": "python3"
  },
  "language_info": {
   "codemirror_mode": {
    "name": "ipython",
    "version": 3
   },
   "file_extension": ".py",
   "mimetype": "text/x-python",
   "name": "python",
   "nbconvert_exporter": "python",
   "pygments_lexer": "ipython3",
   "version": "3.9.7"
  }
 },
 "nbformat": 4,
 "nbformat_minor": 5
}
